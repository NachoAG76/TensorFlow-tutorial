{
 "cells": [
  {
   "cell_type": "markdown",
   "metadata": {},
   "source": [
    "## TENSOR FLOW PARA PRINCIPIANTES (IV): Guardar y Recuperar grafos con TensorFlow\n",
    "\n",
    "\n",
    "\n",
    "Este tutorial muestra cómo guardar y restaurar las variables de una red neuronal cread en TensorFlow. Durante la optimización guardamos las variables de la red neuronal siempre que su precisión de clasificación haya mejorado en el conjunto de validación. La optimización se cancela cuando no ha habido mejoras para 1000 iteraciones. Luego, volvemos a cargar las variables que obtuvieron mejores resultados en el conjunto de validación.\n",
    "\n",
    "Esta estrategia se llama **Early Stopping**. Se usa para evitar el sobreajuste (Overfitting) de la red neuronal. Esto ocurre cuando la red neuronal se está entrenando durante demasiado tiempo, por lo que comienza a aprender el ruido del conjunto de entrenamiento, lo que podría causar que la red neuronal clasifique incorrectamente las imágenes nuevas.\n",
    "\n",
    "El sobreajuste no es realmente un problema para la red neuronal utilizada en este tutorial en el conjunto de datos MNIST para el reconocimiento de dígitos escritos a mano. Pero este tutorial muestra la idea general en el uso del **Early Stopping** cómo técnica.\n",
    "\n",
    "\n",
    "Seguiremos utilizando el ejemplo usado en los tutoriales anetrioeres (ver tutoriales [I],[II],[III],[IV]) para mostrar como guardar y recuperar las variables de la red neuronal. Partamos del mismo  esquema de la red neuronal convolucinal que queremos implementar para la tarea del reconocimiento de dígitos escritos a mano, para terner presente la estructura de nuestra red, tal y como hemos encho en los tutoriales anteriores. \n",
    "\n",
    "\n",
    "![F1](imagenes/02_network_flowchart.png)\n",
    "\n",
    "[I]:https://www.apsl.net/blog/2017/12/05/tensor-flow-para-principiantes-i/\n",
    "[II]:https://www.apsl.net/blog/2017/12/18/tensor-flow-para-principiantes-ii/\n",
    "[III]:https://www.apsl.net/blog/2018/01/10/tensor-flow-para-principiantes-iii-uso-de-la-libreria-prettytensor/\n",
    "[IV]:https://www.apsl.net/blog/2018/01/19/tensor-flow-para-principiantes-iv-uso-de-la-api-layers/\n",
    "\n",
    "\n",
    "Importamos las librerias. Utilizaremos la libreria PrettyTensor para simplificar la construcción de redes neuronales (ver tutorial [III] para más detalles)."
   ]
  },
  {
   "cell_type": "code",
   "execution_count": 1,
   "metadata": {},
   "outputs": [],
   "source": [
    "%matplotlib inline\n",
    "import matplotlib.pyplot as plt\n",
    "import tensorflow as tf\n",
    "import numpy as np\n",
    "from sklearn.metrics import confusion_matrix\n",
    "import time\n",
    "from datetime import timedelta\n",
    "import math\n",
    "import os\n",
    "\n",
    "# Use PrettyTensor to simplify Neural Network construction.\n",
    "import prettytensor as pt"
   ]
  },
  {
   "cell_type": "markdown",
   "metadata": {},
   "source": [
    "Cargamos los datos"
   ]
  },
  {
   "cell_type": "code",
   "execution_count": 2,
   "metadata": {},
   "outputs": [
    {
     "name": "stdout",
     "output_type": "stream",
     "text": [
      "Extracting data/MNIST/train-images-idx3-ubyte.gz\n",
      "Extracting data/MNIST/train-labels-idx1-ubyte.gz\n",
      "Extracting data/MNIST/t10k-images-idx3-ubyte.gz\n",
      "Extracting data/MNIST/t10k-labels-idx1-ubyte.gz\n"
     ]
    }
   ],
   "source": [
    "from tensorflow.examples.tutorials.mnist import input_data\n",
    "data = input_data.read_data_sets('data/MNIST/', one_hot=True)"
   ]
  },
  {
   "cell_type": "markdown",
   "metadata": {},
   "source": [
    "Las etiquetas de clase son codificadas por One-Hot, lo que significa que cada etiqueta es un vector con 10 elementos, todos los cuales son cero a excepción de un elemento. El índice de este elemento es el número de clase, es decir, el dígito que se muestra en la imagen asociada. También necesitamos los números de clase como enteros para el conjunto de pruebas, por lo que ahora lo calculamos.\n"
   ]
  },
  {
   "cell_type": "code",
   "execution_count": 3,
   "metadata": {},
   "outputs": [],
   "source": [
    "data.test.cls = np.argmax(data.test.labels, axis=1)\n",
    "data.validation.cls = np.argmax(data.validation.labels, axis=1)"
   ]
  },
  {
   "cell_type": "markdown",
   "metadata": {},
   "source": [
    "Pasamos a definir el conjunto de variables para dar formato a las dimensiones de nuestras imágenes:"
   ]
  },
  {
   "cell_type": "code",
   "execution_count": 4,
   "metadata": {},
   "outputs": [],
   "source": [
    "# We know that MNIST images are 28 pixels in each dimension.\n",
    "img_size = 28\n",
    "\n",
    "# Images are stored in one-dimensional arrays of this length.\n",
    "img_size_flat = img_size * img_size\n",
    "\n",
    "# Tuple with height and width of images used to reshape arrays.\n",
    "img_shape = (img_size, img_size)\n",
    "\n",
    "# Number of colour channels for the images: 1 channel for gray-scale.\n",
    "num_channels = 1\n",
    "\n",
    "# Number of classes, one class for each of 10 digits.\n",
    "num_classes = 10"
   ]
  },
  {
   "cell_type": "markdown",
   "metadata": {},
   "source": [
    " Crearemos nuestra función que es utilizada para trazar 9 imágenes en una cuadrícula de 3x3 y escribir las clases verdaderas y predichas debajo de cada imagen.\n"
   ]
  },
  {
   "cell_type": "code",
   "execution_count": 5,
   "metadata": {},
   "outputs": [],
   "source": [
    "def plot_images(images, cls_true, cls_pred=None):\n",
    "    assert len(images) == len(cls_true) == 9\n",
    "    \n",
    "    # Create figure with 3x3 sub-plots.\n",
    "    fig, axes = plt.subplots(3, 3)\n",
    "    fig.subplots_adjust(hspace=0.3, wspace=0.3)\n",
    "\n",
    "    for i, ax in enumerate(axes.flat):\n",
    "        # Plot image.\n",
    "        ax.imshow(images[i].reshape(img_shape), cmap='binary')\n",
    "\n",
    "        # Show true and predicted classes.\n",
    "        if cls_pred is None:\n",
    "            xlabel = \"True: {0}\".format(cls_true[i])\n",
    "        else:\n",
    "            xlabel = \"True: {0}, Pred: {1}\".format(cls_true[i], cls_pred[i])\n",
    "\n",
    "        # Show the classes as the label on the x-axis.\n",
    "        ax.set_xlabel(xlabel)\n",
    "        \n",
    "        # Remove ticks from the plot.\n",
    "        ax.set_xticks([])\n",
    "        ax.set_yticks([])\n",
    "    \n",
    "    # Ensure the plot is shown correctly with multiple plots\n",
    "    # in a single Notebook cell.\n",
    "    plt.show()"
   ]
  },
  {
   "cell_type": "markdown",
   "metadata": {},
   "source": [
    "graficamos algunos datos"
   ]
  },
  {
   "cell_type": "code",
   "execution_count": 6,
   "metadata": {},
   "outputs": [
    {
     "data": {
      "image/png": "[encoded data removed]",
      "text/plain": [
       "<matplotlib.figure.Figure at 0x7f9457f0fb38>"
      ]
     },
     "metadata": {},
     "output_type": "display_data"
    }
   ],
   "source": [
    "# Get the first images from the test-set.\n",
    "images = data.test.images[0:9]\n",
    "\n",
    "# Get the true classes for those images.\n",
    "cls_true = data.test.cls[0:9]\n",
    "\n",
    "# Plot the images and labels using our helper-function above.\n",
    "plot_images(images=images, cls_true=cls_true)"
   ]
  },
  {
   "cell_type": "markdown",
   "metadata": {},
   "source": [
    "Las variables de marcador de posición (Placeholder variables)\n",
    "\n",
    "Creamos las variables de marcador de posición como hicimos en los tutoriales anteriores:\n"
   ]
  },
  {
   "cell_type": "code",
   "execution_count": 7,
   "metadata": {},
   "outputs": [],
   "source": [
    "x = tf.placeholder(tf.float32, shape=[None, img_size_flat], name='x')\n",
    "x_image = tf.reshape(x, [-1, img_size, img_size, num_channels])\n",
    "y_true = tf.placeholder(tf.float32, shape=[None, 10], name='y_true')\n",
    "#y_true_cls = tf.argmax(y_true, dimension=1)\n",
    "y_true_cls = tf.argmax(y_true, axis=1)"
   ]
  },
  {
   "cell_type": "markdown",
   "metadata": {},
   "source": [
    "Creamos la estructura de la red neuronal\n",
    "\n",
    "Esta sección implementa la Red Neural Convolucional usando Pretty Tensor (veáse Tutorial [III])."
   ]
  },
  {
   "cell_type": "code",
   "execution_count": 8,
   "metadata": {},
   "outputs": [],
   "source": [
    "x_pretty = pt.wrap(x_image)\n",
    "\n",
    "with pt.defaults_scope(activation_fn=tf.nn.relu):\n",
    "    y_pred, loss = x_pretty.\\\n",
    "        conv2d(kernel=5, depth=16, name='layer_conv1').\\\n",
    "        max_pool(kernel=2, stride=2).\\\n",
    "        conv2d(kernel=5, depth=36, name='layer_conv2').\\\n",
    "        max_pool(kernel=2, stride=2).\\\n",
    "        flatten().\\\n",
    "        fully_connected(size=128, name='layer_fc1').\\\n",
    "        softmax_classifier(num_classes=num_classes, labels=y_true)"
   ]
  },
  {
   "cell_type": "markdown",
   "metadata": {},
   "source": [
    "Creamos nuestra función para obtener los pesos de los filtros"
   ]
  },
  {
   "cell_type": "code",
   "execution_count": 9,
   "metadata": {},
   "outputs": [],
   "source": [
    "def get_weights_variable(layer_name):\n",
    "    # Retrieve an existing variable named 'weights' in the scope\n",
    "    # with the given layer_name.\n",
    "    # This is awkward because the TensorFlow function was\n",
    "    # really intended for another purpose.\n",
    "\n",
    "    with tf.variable_scope(layer_name, reuse=True):\n",
    "        variable = tf.get_variable('weights')\n",
    "\n",
    "    return variable\n",
    "\n",
    "weights_conv1 = get_weights_variable(layer_name='layer_conv1')\n",
    "weights_conv2 = get_weights_variable(layer_name='layer_conv2')\n",
    "\n",
    "\n"
   ]
  },
  {
   "cell_type": "markdown",
   "metadata": {},
   "source": [
    "método de optimización en la función de coste:"
   ]
  },
  {
   "cell_type": "code",
   "execution_count": 10,
   "metadata": {},
   "outputs": [],
   "source": [
    "# Optimization Method\n",
    "optimizer = tf.train.AdamOptimizer(learning_rate=1e-4).minimize(loss)"
   ]
  },
  {
   "cell_type": "markdown",
   "metadata": {},
   "source": [
    "Medidas de desempeño"
   ]
  },
  {
   "cell_type": "code",
   "execution_count": 11,
   "metadata": {},
   "outputs": [],
   "source": [
    "#y_pred_cls = tf.argmax(y_pred, dimension=1)\n",
    "y_pred_cls = tf.argmax(y_pred, axis=1)"
   ]
  },
  {
   "cell_type": "markdown",
   "metadata": {},
   "source": [
    "Luego creamos un vector de booleanos que nos dice si la clase predicha es igual a la clase verdadera de cada imagen."
   ]
  },
  {
   "cell_type": "code",
   "execution_count": 12,
   "metadata": {},
   "outputs": [],
   "source": [
    "correct_prediction = tf.equal(y_pred_cls, y_true_cls)"
   ]
  },
  {
   "cell_type": "markdown",
   "metadata": {},
   "source": [
    "Calculamos la precisión (accuracy) de la clasificación y transforma los booleanos a floats, de modo que False se convierte en 0 y True se convierte en 1. Luego calculamos el promedio de estos números."
   ]
  },
  {
   "cell_type": "code",
   "execution_count": 13,
   "metadata": {},
   "outputs": [],
   "source": [
    "accuracy = tf.reduce_mean(tf.cast(correct_prediction, tf.float32))"
   ]
  },
  {
   "cell_type": "markdown",
   "metadata": {},
   "source": [
    "## Guardar las variables del grafo\n",
    "\n",
    "Para guardar las variables de la red neuronal, ahora creamos objeto que llamaremos Saver, que se utiliza para almacenar y recuperar todas las variables del gráfico TensorFlow. Nada se guarda realmente en este punto, lo que se hará más adelante en la función optimize ()."
   ]
  },
  {
   "cell_type": "code",
   "execution_count": 14,
   "metadata": {},
   "outputs": [],
   "source": [
    "saver = tf.train.Saver()"
   ]
  },
  {
   "cell_type": "markdown",
   "metadata": {},
   "source": [
    "Los archivos guardados a menudo se llaman puntos de control porque pueden escribirse a intervalos regulares durante la optimización.\n",
    "\n",
    "Este es el directorio utilizado para guardar y recuperar los datos."
   ]
  },
  {
   "cell_type": "code",
   "execution_count": 15,
   "metadata": {},
   "outputs": [],
   "source": [
    "save_dir = 'checkpoints/'"
   ]
  },
  {
   "cell_type": "markdown",
   "metadata": {},
   "source": [
    "Crea el directorio si no existe."
   ]
  },
  {
   "cell_type": "code",
   "execution_count": 16,
   "metadata": {},
   "outputs": [],
   "source": [
    "if not os.path.exists(save_dir):\n",
    "    os.makedirs(save_dir)"
   ]
  },
  {
   "cell_type": "markdown",
   "metadata": {},
   "source": [
    "Esta es la ruta para el archivo punto de control."
   ]
  },
  {
   "cell_type": "code",
   "execution_count": 17,
   "metadata": {},
   "outputs": [],
   "source": [
    "save_path = os.path.join(save_dir, 'best_validation')"
   ]
  },
  {
   "cell_type": "markdown",
   "metadata": {},
   "source": [
    "###  Ejecutamos el grafo de TensorFlow \n",
    "Crear sesión de TensorFlow\n",
    "\n",
    "Una vez que se ha creado el gráfico TensorFlow, y todos los elementos necesario para su ejecución,  tenemos que crear una sesión TensorFlow que se utiliza para ejecutar el grafo."
   ]
  },
  {
   "cell_type": "code",
   "execution_count": 18,
   "metadata": {},
   "outputs": [],
   "source": [
    "session = tf.Session()\n",
    "\n",
    "# Initialize variables\n",
    "def init_variables():\n",
    "    session.run(tf.global_variables_initializer())\n",
    "    \n",
    "#Execute the function now to initialize the variables.\n",
    "init_variables()"
   ]
  },
  {
   "cell_type": "markdown",
   "metadata": {},
   "source": [
    "creamos la función de iteración para el proceso de optimización, esta vez agregaremos un par de aspectos más ya que ahora consideraremos la opción de guardar:"
   ]
  },
  {
   "cell_type": "code",
   "execution_count": 19,
   "metadata": {},
   "outputs": [],
   "source": [
    "train_batch_size = 64"
   ]
  },
  {
   "cell_type": "markdown",
   "metadata": {},
   "source": [
    "La precisión de clasificación para el conjunto de validación se calculará por cada 100 iteraciones de la función de optimización a continuación. La optimización se detendrá si la precisión de la validación no se ha mejorado en 1000 iteraciones. Necesitamos algunas variables para hacer un seguimiento de esto."
   ]
  },
  {
   "cell_type": "code",
   "execution_count": 20,
   "metadata": {},
   "outputs": [],
   "source": [
    "# Best validation accuracy seen so far.\n",
    "best_validation_accuracy = 0.0\n",
    "\n",
    "# Iteration-number for last improvement to validation accuracy.\n",
    "last_improvement = 0\n",
    "\n",
    "# Stop optimization if no improvement found in this many iterations.\n",
    "require_improvement = 1000"
   ]
  },
  {
   "cell_type": "markdown",
   "metadata": {},
   "source": [
    "Función para realizar una serie de iteraciones de optimización a fin de mejorar gradualmente las variables de las capas de red. En cada iteración, se selecciona un nuevo lote de datos del conjunto de entrenamiento y luego TensorFlow ejecuta el optimizador usando esas muestras de entrenamiento. El progreso se imprime cada 100 iteraciones donde la precisión de la validación también se calcula y se guarda en un archivo si se trata de una mejora."
   ]
  },
  {
   "cell_type": "code",
   "execution_count": 21,
   "metadata": {},
   "outputs": [],
   "source": [
    "# Counter for total number of iterations performed so far.\n",
    "total_iterations = 0\n",
    "\n",
    "def optimize(num_iterations):\n",
    "    # Ensure we update the global variables rather than local copies.\n",
    "    global total_iterations\n",
    "    global best_validation_accuracy\n",
    "    global last_improvement\n",
    "\n",
    "    # Start-time used for printing time-usage below.\n",
    "    start_time = time.time()\n",
    "\n",
    "    for i in range(num_iterations):\n",
    "\n",
    "        # Increase the total number of iterations performed.\n",
    "        # It is easier to update it in each iteration because\n",
    "        # we need this number several times in the following.\n",
    "        total_iterations += 1\n",
    "\n",
    "        # Get a batch of training examples.\n",
    "        # x_batch now holds a batch of images and\n",
    "        # y_true_batch are the true labels for those images.\n",
    "        x_batch, y_true_batch = data.train.next_batch(train_batch_size)\n",
    "\n",
    "        # Put the batch into a dict with the proper names\n",
    "        # for placeholder variables in the TensorFlow graph.\n",
    "        feed_dict_train = {x: x_batch,\n",
    "                           y_true: y_true_batch}\n",
    "\n",
    "        # Run the optimizer using this batch of training data.\n",
    "        # TensorFlow assigns the variables in feed_dict_train\n",
    "        # to the placeholder variables and then runs the optimizer.\n",
    "        session.run(optimizer, feed_dict=feed_dict_train)\n",
    "\n",
    "        # Print status every 100 iterations and after last iteration.\n",
    "        if (total_iterations % 100 == 0) or (i == (num_iterations - 1)):\n",
    "\n",
    "            # Calculate the accuracy on the training-batch.\n",
    "            acc_train = session.run(accuracy, feed_dict=feed_dict_train)\n",
    "\n",
    "            # Calculate the accuracy on the validation-set.\n",
    "            # The function returns 2 values but we only need the first.\n",
    "            acc_validation, _ = validation_accuracy()\n",
    "\n",
    "            # If validation accuracy is an improvement over best-known.\n",
    "            if acc_validation > best_validation_accuracy:\n",
    "                # Update the best-known validation accuracy.\n",
    "                best_validation_accuracy = acc_validation\n",
    "                \n",
    "                # Set the iteration for the last improvement to current.\n",
    "                last_improvement = total_iterations\n",
    "\n",
    "                # Save all variables of the TensorFlow graph to file.\n",
    "                saver.save(sess=session, save_path=save_path)\n",
    "\n",
    "                # A string to be printed below, shows improvement found.\n",
    "                improved_str = '*'\n",
    "            else:\n",
    "                # An empty string to be printed below.\n",
    "                # Shows that no improvement was found.\n",
    "                improved_str = ''\n",
    "            \n",
    "            # Status-message for printing.\n",
    "            msg = \"Iter: {0:>6}, Train-Batch Accuracy: {1:>6.1%}, Validation Acc: {2:>6.1%} {3}\"\n",
    "\n",
    "            # Print it.\n",
    "            print(msg.format(i + 1, acc_train, acc_validation, improved_str))\n",
    "\n",
    "        # If no improvement found in the required number of iterations.\n",
    "        if total_iterations - last_improvement > require_improvement:\n",
    "            print(\"No improvement found in a while, stopping optimization.\")\n",
    "\n",
    "            # Break out from the for-loop.\n",
    "            break\n",
    "\n",
    "    # Ending time.\n",
    "    end_time = time.time()\n",
    "\n",
    "    # Difference between start and end-times.\n",
    "    time_dif = end_time - start_time\n",
    "\n",
    "    # Print the time-usage.\n",
    "    print(\"Time usage: \" + str(timedelta(seconds=int(round(time_dif)))))"
   ]
  },
  {
   "cell_type": "markdown",
   "metadata": {},
   "source": [
    "Ahora crearemos algunas funciones para el monitoreo del comportamiento del modelo.\n",
    " * Función para trazar ejemplos de imágenes del conjunto de prueba que han sido clasificadas incorrectamente.\n",
    "\n"
   ]
  },
  {
   "cell_type": "code",
   "execution_count": 22,
   "metadata": {},
   "outputs": [],
   "source": [
    "def plot_example_errors(cls_pred, correct):\n",
    "    # This function is called from print_test_accuracy() below.\n",
    "\n",
    "    # cls_pred is an array of the predicted class-number for\n",
    "    # all images in the test-set.\n",
    "\n",
    "    # correct is a boolean array whether the predicted class\n",
    "    # is equal to the true class for each image in the test-set.\n",
    "\n",
    "    # Negate the boolean array.\n",
    "    incorrect = (correct == False)\n",
    "    \n",
    "    # Get the images from the test-set that have been\n",
    "    # incorrectly classified.\n",
    "    images = data.test.images[incorrect]\n",
    "    \n",
    "    # Get the predicted classes for those images.\n",
    "    cls_pred = cls_pred[incorrect]\n",
    "\n",
    "    # Get the true classes for those images.\n",
    "    cls_true = data.test.cls[incorrect]\n",
    "    \n",
    "    # Plot the first 9 images.\n",
    "    plot_images(images=images[0:9],\n",
    "                cls_true=cls_true[0:9],\n",
    "                cls_pred=cls_pred[0:9])"
   ]
  },
  {
   "cell_type": "markdown",
   "metadata": {},
   "source": [
    "* Función para calcular la matriz de confusión "
   ]
  },
  {
   "cell_type": "code",
   "execution_count": 23,
   "metadata": {},
   "outputs": [],
   "source": [
    "def plot_confusion_matrix(cls_pred):\n",
    "    # This is called from print_test_accuracy() below.\n",
    "\n",
    "    # cls_pred is an array of the predicted class-number for\n",
    "    # all images in the test-set.\n",
    "\n",
    "    # Get the true classifications for the test-set.\n",
    "    cls_true = data.test.cls\n",
    "    \n",
    "    # Get the confusion matrix using sklearn.\n",
    "    cm = confusion_matrix(y_true=cls_true,\n",
    "                          y_pred=cls_pred)\n",
    "\n",
    "    # Print the confusion matrix as text.\n",
    "    print(cm)\n",
    "\n",
    "    # Plot the confusion matrix as an image.\n",
    "    plt.matshow(cm)\n",
    "\n",
    "    # Make various adjustments to the plot.\n",
    "    plt.colorbar()\n",
    "    tick_marks = np.arange(num_classes)\n",
    "    plt.xticks(tick_marks, range(num_classes))\n",
    "    plt.yticks(tick_marks, range(num_classes))\n",
    "    plt.xlabel('Predicted')\n",
    "    plt.ylabel('True')\n",
    "\n",
    "    # Ensure the plot is shown correctly with multiple plots\n",
    "    # in a single Notebook cell.\n",
    "    plt.show()"
   ]
  },
  {
   "cell_type": "markdown",
   "metadata": {},
   "source": [
    "* funciones para calcular clasificaciones\n",
    "\n",
    "   * Esta función calcula las clases de imágenes predichas y también devuelve una matriz booleana si la clasificación de cada imagen es correcta.\n",
    "\n",
    "   * El cálculo se realiza en lotes porque, de lo contrario, podría usar demasiada memoria RAM. Si su computadora falla, puede intentar bajar el tamaño del lote."
   ]
  },
  {
   "cell_type": "code",
   "execution_count": 24,
   "metadata": {},
   "outputs": [],
   "source": [
    "\n",
    "\n",
    "# Split the data-set in batches of this size to limit RAM usage.\n",
    "batch_size = 256\n",
    "\n",
    "def predict_cls(images, labels, cls_true):\n",
    "    # Number of images.\n",
    "    num_images = len(images)\n",
    "\n",
    "    # Allocate an array for the predicted classes which\n",
    "    # will be calculated in batches and filled into this array.\n",
    "    cls_pred = np.zeros(shape=num_images, dtype=np.int)\n",
    "\n",
    "    # Now calculate the predicted classes for the batches.\n",
    "    # We will just iterate through all the batches.\n",
    "    # There might be a more clever and Pythonic way of doing this.\n",
    "\n",
    "    # The starting index for the next batch is denoted i.\n",
    "    i = 0\n",
    "\n",
    "    while i < num_images:\n",
    "        # The ending index for the next batch is denoted j.\n",
    "        j = min(i + batch_size, num_images)\n",
    "\n",
    "        # Create a feed-dict with the images and labels\n",
    "        # between index i and j.\n",
    "        feed_dict = {x: images[i:j, :],\n",
    "                     y_true: labels[i:j, :]}\n",
    "\n",
    "        # Calculate the predicted class using TensorFlow.\n",
    "        cls_pred[i:j] = session.run(y_pred_cls, feed_dict=feed_dict)\n",
    "\n",
    "        # Set the start-index for the next batch to the\n",
    "        # end-index of the current batch.\n",
    "        i = j\n",
    "\n",
    "    # Create a boolean array whether each image is correctly classified.\n",
    "    correct = (cls_true == cls_pred)\n",
    "\n",
    "    return correct, cls_pred\n",
    "\n"
   ]
  },
  {
   "cell_type": "markdown",
   "metadata": {},
   "source": [
    "* Función que calcule la clase predicha para el conjunto de prueba."
   ]
  },
  {
   "cell_type": "code",
   "execution_count": 25,
   "metadata": {},
   "outputs": [],
   "source": [
    "def predict_cls_test():\n",
    "    return predict_cls(images = data.test.images,\n",
    "                       labels = data.test.labels,\n",
    "                       cls_true = data.test.cls)\n",
    "\n"
   ]
  },
  {
   "cell_type": "markdown",
   "metadata": {},
   "source": [
    "* Calcule la clase predicha para el conjunto de validación."
   ]
  },
  {
   "cell_type": "code",
   "execution_count": 26,
   "metadata": {},
   "outputs": [],
   "source": [
    "def predict_cls_validation():\n",
    "    return predict_cls(images = data.validation.images,\n",
    "                       labels = data.validation.labels,\n",
    "                       cls_true = data.validation.cls)"
   ]
  },
  {
   "cell_type": "markdown",
   "metadata": {},
   "source": [
    "Función para la precisión de clasificación\n",
    "\n",
    "Esta función calcula la precisión de clasificación dada una matriz booleana si cada imagen fue clasificada correctamente. P.ej. cls_accuracy ([True, True, False, False, False]) = 2/5 = 0.4"
   ]
  },
  {
   "cell_type": "code",
   "execution_count": 27,
   "metadata": {},
   "outputs": [],
   "source": [
    "def cls_accuracy(correct):\n",
    "    # Calculate the number of correctly classified images.\n",
    "    # When summing a boolean array, False means 0 and True means 1.\n",
    "    correct_sum = correct.sum()\n",
    "\n",
    "    # Classification accuracy is the number of correctly classified\n",
    "    # images divided by the total number of images in the test-set.\n",
    "    acc = float(correct_sum) / len(correct)\n",
    "\n",
    "    return acc, correct_sum"
   ]
  },
  {
   "cell_type": "markdown",
   "metadata": {},
   "source": [
    "* Calcule la precisión de clasificación en el conjunto de validación."
   ]
  },
  {
   "cell_type": "code",
   "execution_count": 28,
   "metadata": {},
   "outputs": [],
   "source": [
    "def validation_accuracy():\n",
    "    # Get the array of booleans whether the classifications are correct\n",
    "    # for the validation-set.\n",
    "    # The function returns two values but we only need the first.\n",
    "    correct, _ = predict_cls_validation()\n",
    "    \n",
    "    # Calculate the classification accuracy and return it.\n",
    "    return cls_accuracy(correct)\n",
    "\n"
   ]
  },
  {
   "cell_type": "markdown",
   "metadata": {},
   "source": [
    "* Función auxiliar para mostrar el rendimiento\n",
    "\n",
    "  * Función para imprimir la precisión de clasificación en el conjunto de prueba.\n",
    "\n",
    "  * Lleva un tiempo calcular la clasificación de todas las imágenes en el conjunto de pruebas, por eso los resultados se reutilizan llamando a las funciones anteriores directamente desde esta función, por lo que las clasificaciones no tienen que ser recalculadas por cada función."
   ]
  },
  {
   "cell_type": "code",
   "execution_count": 29,
   "metadata": {},
   "outputs": [],
   "source": [
    "def print_test_accuracy(show_example_errors=False,\n",
    "                        show_confusion_matrix=False):\n",
    "\n",
    "    # For all the images in the test-set,\n",
    "    # calculate the predicted classes and whether they are correct.\n",
    "    correct, cls_pred = predict_cls_test()\n",
    "\n",
    "    # Classification accuracy and the number of correct classifications.\n",
    "    acc, num_correct = cls_accuracy(correct)\n",
    "    \n",
    "    # Number of images being classified.\n",
    "    num_images = len(correct)\n",
    "\n",
    "    # Print the accuracy.\n",
    "    msg = \"Accuracy on Test-Set: {0:.1%} ({1} / {2})\"\n",
    "    print(msg.format(acc, num_correct, num_images))\n",
    "\n",
    "    # Plot some examples of mis-classifications, if desired.\n",
    "    if show_example_errors:\n",
    "        print(\"Example errors:\")\n",
    "        plot_example_errors(cls_pred=cls_pred, correct=correct)\n",
    "\n",
    "    # Plot the confusion matrix, if desired.\n",
    "    if show_confusion_matrix:\n",
    "        print(\"Confusion Matrix:\")\n",
    "        plot_confusion_matrix(cls_pred=cls_pred)"
   ]
  },
  {
   "cell_type": "markdown",
   "metadata": {},
   "source": [
    "  * Función para trazar pesos de los filtros en la capa convolucional"
   ]
  },
  {
   "cell_type": "code",
   "execution_count": 30,
   "metadata": {},
   "outputs": [],
   "source": [
    "def plot_conv_weights(weights, input_channel=0):\n",
    "    # Assume weights are TensorFlow ops for 4-dim variables\n",
    "    # e.g. weights_conv1 or weights_conv2.\n",
    "\n",
    "    # Retrieve the values of the weight-variables from TensorFlow.\n",
    "    # A feed-dict is not necessary because nothing is calculated.\n",
    "    w = session.run(weights)\n",
    "\n",
    "    # Print mean and standard deviation.\n",
    "    print(\"Mean: {0:.5f}, Stdev: {1:.5f}\".format(w.mean(), w.std()))\n",
    "    \n",
    "    # Get the lowest and highest values for the weights.\n",
    "    # This is used to correct the colour intensity across\n",
    "    # the images so they can be compared with each other.\n",
    "    w_min = np.min(w)\n",
    "    w_max = np.max(w)\n",
    "\n",
    "    # Number of filters used in the conv. layer.\n",
    "    num_filters = w.shape[3]\n",
    "\n",
    "    # Number of grids to plot.\n",
    "    # Rounded-up, square-root of the number of filters.\n",
    "    num_grids = math.ceil(math.sqrt(num_filters))\n",
    "    \n",
    "    # Create figure with a grid of sub-plots.\n",
    "    fig, axes = plt.subplots(num_grids, num_grids)\n",
    "\n",
    "    # Plot all the filter-weights.\n",
    "    for i, ax in enumerate(axes.flat):\n",
    "        # Only plot the valid filter-weights.\n",
    "        if i<num_filters:\n",
    "            # Get the weights for the i'th filter of the input channel.\n",
    "            # The format of this 4-dim tensor is determined by the\n",
    "            # TensorFlow API. See Tutorial #02 for more details.\n",
    "            img = w[:, :, input_channel, i]\n",
    "\n",
    "            # Plot image.\n",
    "            ax.imshow(img, vmin=w_min, vmax=w_max,\n",
    "                      interpolation='nearest', cmap='seismic')\n",
    "        \n",
    "        # Remove ticks from the plot.\n",
    "        ax.set_xticks([])\n",
    "        ax.set_yticks([])\n",
    "    \n",
    "    # Ensure the plot is shown correctly with multiple plots\n",
    "    # in a single Notebook cell.\n",
    "    plt.show()"
   ]
  },
  {
   "cell_type": "markdown",
   "metadata": {},
   "source": [
    "Miremos la precisión antes de cualquier optimización.\n"
   ]
  },
  {
   "cell_type": "code",
   "execution_count": 31,
   "metadata": {},
   "outputs": [
    {
     "name": "stdout",
     "output_type": "stream",
     "text": [
      "Accuracy on Test-Set: 8.1% (812 / 10000)\n"
     ]
    }
   ],
   "source": [
    "print_test_accuracy()"
   ]
  },
  {
   "cell_type": "markdown",
   "metadata": {},
   "source": [
    "miramos los pesos.."
   ]
  },
  {
   "cell_type": "code",
   "execution_count": 32,
   "metadata": {},
   "outputs": [
    {
     "name": "stdout",
     "output_type": "stream",
     "text": [
      "Mean: -0.01150, Stdev: 0.27225\n"
     ]
    },
    {
     "data": {
      "image/png": "[encoded data removed]",
      "text/plain": [
       "<matplotlib.figure.Figure at 0x7f945528b278>"
      ]
     },
     "metadata": {},
     "output_type": "display_data"
    }
   ],
   "source": [
    "plot_conv_weights(weights=weights_conv1)"
   ]
  },
  {
   "cell_type": "markdown",
   "metadata": {},
   "source": [
    "Realiza 10.000 iteraciones de optimización\n",
    "\n",
    "Ahora realizamos 10.000 iteraciones de optimización y cancelamos la optimización si no se encuentra ninguna mejora en el conjunto de validación en 1000 iteraciones.\n",
    "\n",
    "Se muestra un asterisco * si la precisión de la clasificación en el conjunto de validación es una mejora."
   ]
  },
  {
   "cell_type": "code",
   "execution_count": 33,
   "metadata": {},
   "outputs": [
    {
     "name": "stdout",
     "output_type": "stream",
     "text": [
      "Iter:    100, Train-Batch Accuracy:  81.2%, Validation Acc:  84.2% *\n",
      "Iter:    200, Train-Batch Accuracy:  95.3%, Validation Acc:  90.5% *\n",
      "Iter:    300, Train-Batch Accuracy:  95.3%, Validation Acc:  92.4% *\n",
      "Iter:    400, Train-Batch Accuracy:  92.2%, Validation Acc:  92.5% *\n",
      "Iter:    500, Train-Batch Accuracy:  93.8%, Validation Acc:  94.3% *\n",
      "Iter:    600, Train-Batch Accuracy:  95.3%, Validation Acc:  94.9% *\n",
      "Iter:    700, Train-Batch Accuracy:  95.3%, Validation Acc:  95.4% *\n",
      "Iter:    800, Train-Batch Accuracy:  95.3%, Validation Acc:  95.8% *\n",
      "Iter:    900, Train-Batch Accuracy:  98.4%, Validation Acc:  96.4% *\n",
      "Iter:   1000, Train-Batch Accuracy: 100.0%, Validation Acc:  96.2% \n",
      "Iter:   1100, Train-Batch Accuracy:  98.4%, Validation Acc:  96.7% *\n",
      "Iter:   1200, Train-Batch Accuracy:  92.2%, Validation Acc:  96.7% \n",
      "Iter:   1300, Train-Batch Accuracy: 100.0%, Validation Acc:  97.2% *\n",
      "Iter:   1400, Train-Batch Accuracy:  96.9%, Validation Acc:  97.3% *\n",
      "Iter:   1500, Train-Batch Accuracy:  96.9%, Validation Acc:  97.2% \n",
      "Iter:   1600, Train-Batch Accuracy:  95.3%, Validation Acc:  97.3% *\n",
      "Iter:   1700, Train-Batch Accuracy:  98.4%, Validation Acc:  97.3% *\n",
      "Iter:   1800, Train-Batch Accuracy: 100.0%, Validation Acc:  97.7% *\n",
      "Iter:   1900, Train-Batch Accuracy:  96.9%, Validation Acc:  97.6% \n",
      "Iter:   2000, Train-Batch Accuracy:  98.4%, Validation Acc:  97.4% \n",
      "Iter:   2100, Train-Batch Accuracy:  95.3%, Validation Acc:  97.7% \n",
      "Iter:   2200, Train-Batch Accuracy:  98.4%, Validation Acc:  98.0% *\n",
      "Iter:   2300, Train-Batch Accuracy: 100.0%, Validation Acc:  97.9% \n",
      "Iter:   2400, Train-Batch Accuracy: 100.0%, Validation Acc:  97.9% \n",
      "Iter:   2500, Train-Batch Accuracy: 100.0%, Validation Acc:  97.8% \n",
      "Iter:   2600, Train-Batch Accuracy:  98.4%, Validation Acc:  98.1% *\n",
      "Iter:   2700, Train-Batch Accuracy:  90.6%, Validation Acc:  98.2% *\n",
      "Iter:   2800, Train-Batch Accuracy: 100.0%, Validation Acc:  98.2% \n",
      "Iter:   2900, Train-Batch Accuracy:  96.9%, Validation Acc:  98.3% *\n",
      "Iter:   3000, Train-Batch Accuracy: 100.0%, Validation Acc:  98.1% \n",
      "Iter:   3100, Train-Batch Accuracy:  98.4%, Validation Acc:  98.2% \n",
      "Iter:   3200, Train-Batch Accuracy:  98.4%, Validation Acc:  98.3% \n",
      "Iter:   3300, Train-Batch Accuracy: 100.0%, Validation Acc:  98.2% \n",
      "Iter:   3400, Train-Batch Accuracy: 100.0%, Validation Acc:  98.4% *\n",
      "Iter:   3500, Train-Batch Accuracy: 100.0%, Validation Acc:  98.4% \n",
      "Iter:   3600, Train-Batch Accuracy: 100.0%, Validation Acc:  98.4% \n",
      "Iter:   3700, Train-Batch Accuracy:  98.4%, Validation Acc:  98.3% \n",
      "Iter:   3800, Train-Batch Accuracy:  96.9%, Validation Acc:  98.4% \n",
      "Iter:   3900, Train-Batch Accuracy:  98.4%, Validation Acc:  98.6% *\n",
      "Iter:   4000, Train-Batch Accuracy:  98.4%, Validation Acc:  98.2% \n",
      "Iter:   4100, Train-Batch Accuracy:  98.4%, Validation Acc:  98.4% \n",
      "Iter:   4200, Train-Batch Accuracy:  95.3%, Validation Acc:  98.6% \n",
      "Iter:   4300, Train-Batch Accuracy: 100.0%, Validation Acc:  98.3% \n",
      "Iter:   4400, Train-Batch Accuracy:  98.4%, Validation Acc:  98.6% *\n",
      "Iter:   4500, Train-Batch Accuracy:  98.4%, Validation Acc:  98.7% *\n",
      "Iter:   4600, Train-Batch Accuracy: 100.0%, Validation Acc:  98.7% *\n",
      "Iter:   4700, Train-Batch Accuracy: 100.0%, Validation Acc:  98.4% \n",
      "Iter:   4800, Train-Batch Accuracy:  96.9%, Validation Acc:  98.6% \n",
      "Iter:   4900, Train-Batch Accuracy:  96.9%, Validation Acc:  98.7% \n",
      "Iter:   5000, Train-Batch Accuracy:  98.4%, Validation Acc:  98.5% \n",
      "Iter:   5100, Train-Batch Accuracy:  95.3%, Validation Acc:  98.7% \n",
      "Iter:   5200, Train-Batch Accuracy: 100.0%, Validation Acc:  98.8% *\n",
      "Iter:   5300, Train-Batch Accuracy: 100.0%, Validation Acc:  98.5% \n",
      "Iter:   5400, Train-Batch Accuracy:  98.4%, Validation Acc:  98.7% \n",
      "Iter:   5500, Train-Batch Accuracy:  98.4%, Validation Acc:  98.7% \n",
      "Iter:   5600, Train-Batch Accuracy:  98.4%, Validation Acc:  98.7% \n",
      "Iter:   5700, Train-Batch Accuracy: 100.0%, Validation Acc:  98.9% *\n",
      "Iter:   5800, Train-Batch Accuracy: 100.0%, Validation Acc:  98.7% \n",
      "Iter:   5900, Train-Batch Accuracy: 100.0%, Validation Acc:  98.5% \n",
      "Iter:   6000, Train-Batch Accuracy:  98.4%, Validation Acc:  98.7% \n",
      "Iter:   6100, Train-Batch Accuracy: 100.0%, Validation Acc:  98.8% \n",
      "Iter:   6200, Train-Batch Accuracy:  98.4%, Validation Acc:  98.8% \n",
      "Iter:   6300, Train-Batch Accuracy: 100.0%, Validation Acc:  98.7% \n",
      "Iter:   6400, Train-Batch Accuracy: 100.0%, Validation Acc:  98.7% \n",
      "Iter:   6500, Train-Batch Accuracy:  98.4%, Validation Acc:  98.7% \n",
      "Iter:   6600, Train-Batch Accuracy: 100.0%, Validation Acc:  98.9% *\n",
      "Iter:   6700, Train-Batch Accuracy:  98.4%, Validation Acc:  98.8% \n",
      "Iter:   6800, Train-Batch Accuracy:  96.9%, Validation Acc:  98.9% \n",
      "Iter:   6900, Train-Batch Accuracy: 100.0%, Validation Acc:  98.8% \n",
      "Iter:   7000, Train-Batch Accuracy: 100.0%, Validation Acc:  98.8% \n",
      "Iter:   7100, Train-Batch Accuracy:  96.9%, Validation Acc:  98.2% \n",
      "Iter:   7200, Train-Batch Accuracy: 100.0%, Validation Acc:  98.7% \n",
      "Iter:   7300, Train-Batch Accuracy: 100.0%, Validation Acc:  98.8% \n",
      "Iter:   7400, Train-Batch Accuracy: 100.0%, Validation Acc:  98.9% \n",
      "Iter:   7500, Train-Batch Accuracy: 100.0%, Validation Acc:  98.6% \n",
      "Iter:   7600, Train-Batch Accuracy:  98.4%, Validation Acc:  98.9% *\n",
      "Iter:   7700, Train-Batch Accuracy:  98.4%, Validation Acc:  99.0% *\n",
      "Iter:   7800, Train-Batch Accuracy:  98.4%, Validation Acc:  98.7% \n",
      "Iter:   7900, Train-Batch Accuracy:  96.9%, Validation Acc:  98.9% \n",
      "Iter:   8000, Train-Batch Accuracy:  98.4%, Validation Acc:  98.7% \n",
      "Iter:   8100, Train-Batch Accuracy: 100.0%, Validation Acc:  98.9% \n",
      "Iter:   8200, Train-Batch Accuracy: 100.0%, Validation Acc:  98.7% \n",
      "Iter:   8300, Train-Batch Accuracy:  98.4%, Validation Acc:  98.8% \n",
      "Iter:   8400, Train-Batch Accuracy:  98.4%, Validation Acc:  98.8% \n",
      "Iter:   8500, Train-Batch Accuracy: 100.0%, Validation Acc:  98.9% \n",
      "Iter:   8600, Train-Batch Accuracy: 100.0%, Validation Acc:  98.8% \n",
      "Iter:   8700, Train-Batch Accuracy:  96.9%, Validation Acc:  98.9% \n",
      "No improvement found in a while, stopping optimization.\n",
      "Time usage: 0:14:17\n"
     ]
    }
   ],
   "source": [
    "optimize(num_iterations=10000)"
   ]
  },
  {
   "cell_type": "code",
   "execution_count": 34,
   "metadata": {},
   "outputs": [
    {
     "name": "stdout",
     "output_type": "stream",
     "text": [
      "Accuracy on Test-Set: 98.8% (9882 / 10000)\n",
      "Confusion Matrix:\n",
      "[[ 976    0    0    0    0    1    1    0    1    1]\n",
      " [   0 1132    1    0    0    0    1    1    0    0]\n",
      " [   4    3 1008    2    1    0    0    4    9    1]\n",
      " [   2    0    0  999    0    5    0    0    3    1]\n",
      " [   0    0    0    0  975    0    0    0    3    4]\n",
      " [   2    0    0    4    0  883    1    0    0    2]\n",
      " [  10    2    0    1    1    4  938    0    2    0]\n",
      " [   1    0    4    3    0    1    0 1015    1    3]\n",
      " [   4    0    0    0    0    2    0    2  962    4]\n",
      " [   1    3    0    1    6    3    0    1    0  994]]\n"
     ]
    },
    {
     "data": {
      "image/png": "[encoded data removed]",
      "text/plain": [
       "<matplotlib.figure.Figure at 0x7f9453951da0>"
      ]
     },
     "metadata": {},
     "output_type": "display_data"
    }
   ],
   "source": [
    "print_test_accuracy(show_example_errors=False,\n",
    "                    show_confusion_matrix=True)"
   ]
  },
  {
   "cell_type": "markdown",
   "metadata": {},
   "source": [
    "Miramos los pesos después de la optimización"
   ]
  },
  {
   "cell_type": "code",
   "execution_count": 35,
   "metadata": {},
   "outputs": [
    {
     "name": "stdout",
     "output_type": "stream",
     "text": [
      "Mean: 0.01089, Stdev: 0.29140\n"
     ]
    },
    {
     "data": {
      "image/png": "[encoded data removed]",
      "text/plain": [
       "<matplotlib.figure.Figure at 0x7f94538ea1d0>"
      ]
     },
     "metadata": {},
     "output_type": "display_data"
    }
   ],
   "source": [
    "plot_conv_weights(weights=weights_conv1)"
   ]
  },
  {
   "cell_type": "markdown",
   "metadata": {},
   "source": [
    "### Inicializar variables nuevamente\n",
    "\n",
    "Reinicializar todas las variables de la red neuronal con valores aleatorios."
   ]
  },
  {
   "cell_type": "code",
   "execution_count": 38,
   "metadata": {},
   "outputs": [
    {
     "name": "stdout",
     "output_type": "stream",
     "text": [
      "Accuracy on Test-Set: 6.7% (673 / 10000)\n",
      "Mean: 0.02489, Stdev: 0.27997\n"
     ]
    },
    {
     "data": {
      "image/png": "[encoded data removed]",
      "text/plain": [
       "<matplotlib.figure.Figure at 0x7f9453961940>"
      ]
     },
     "metadata": {},
     "output_type": "display_data"
    }
   ],
   "source": [
    "init_variables()\n",
    "print_test_accuracy()\n",
    "plot_conv_weights(weights=weights_conv1)"
   ]
  },
  {
   "cell_type": "markdown",
   "metadata": {},
   "source": [
    "Los pesos convolucionales ahora deberían ser diferentes de los pesos mostrados arriba. Además vemos que la precisión cayo del 98.8% al 6.7%, dado que ahora no se han optimizado los pesos.\n",
    "\n",
    "## Recuperamos los valores  mejores de las variables del grafo.\n",
    "\n",
    "Vamos  a cargar todas las variables que se guardaron en el archivo durante la optimización."
   ]
  },
  {
   "cell_type": "code",
   "execution_count": 39,
   "metadata": {},
   "outputs": [
    {
     "name": "stdout",
     "output_type": "stream",
     "text": [
      "INFO:tensorflow:Restoring parameters from checkpoints/best_validation\n"
     ]
    }
   ],
   "source": [
    "saver.restore(sess=session, save_path=save_path)"
   ]
  },
  {
   "cell_type": "markdown",
   "metadata": {},
   "source": [
    "Miaramos la precisión nuevamente"
   ]
  },
  {
   "cell_type": "code",
   "execution_count": 43,
   "metadata": {},
   "outputs": [
    {
     "name": "stdout",
     "output_type": "stream",
     "text": [
      "Accuracy on Test-Set: 98.8% (9884 / 10000)\n",
      "Confusion Matrix:\n",
      "[[ 974    0    0    0    0    0    3    0    2    1]\n",
      " [   0 1132    1    0    0    0    1    1    0    0]\n",
      " [   2    3 1015    2    1    0    0    3    6    0]\n",
      " [   1    0    1 1002    0    2    0    2    1    1]\n",
      " [   0    0    0    0  975    0    2    0    3    2]\n",
      " [   2    0    0    6    0  881    1    0    0    2]\n",
      " [   4    1    0    1    1    1  950    0    0    0]\n",
      " [   1    1    5    2    0    1    0 1014    1    3]\n",
      " [   4    0    1    3    1    3    1    2  956    3]\n",
      " [   1    3    0    1   10    2    0    6    1  985]]\n"
     ]
    },
    {
     "data": {
      "image/png": "[encoded data removed]",
      "text/plain": [
       "<matplotlib.figure.Figure at 0x7f9453b6a630>"
      ]
     },
     "metadata": {},
     "output_type": "display_data"
    }
   ],
   "source": [
    "print_test_accuracy(show_example_errors=False,\n",
    "                    show_confusion_matrix=True)"
   ]
  },
  {
   "cell_type": "markdown",
   "metadata": {},
   "source": [
    "cerramos la sesión para liberar recursos."
   ]
  },
  {
   "cell_type": "code",
   "execution_count": 45,
   "metadata": {},
   "outputs": [],
   "source": [
    "# This has been commented out in case you want to modify and experiment\n",
    "# with the Notebook without having to restart it.\n",
    "session.close()\n",
    "\n"
   ]
  },
  {
   "cell_type": "markdown",
   "metadata": {},
   "source": [
    "### Conclusión\n",
    "\n",
    "Este tutorial mostró cómo guardar y recuperar las variables de una red neuronal en TensorFlow. Esto se puede usar de diferentes maneras. Por ejemplo, si desea utilizar una red neuronal para reconocer imágenes, solo debe entrenar la red una vez y luego puede implementar la red terminada en otras computadoras.\n",
    "\n",
    "Otro uso de los puntos de control es que si tiene una red neuronal y un conjunto de datos muy grandes, puede guardar los puntos de control a intervalos regulares en caso de que la computadora falle, por lo que puede continuar la optimización en un punto de control reciente en lugar de tener que reiniciar optimización desde el principio.\n",
    "\n",
    "Este tutorial también mostró cómo usar el conjunto de validación para la llamada  téctica de **Early Stopping**., donde la optimización se anuló si no mejoraba regularmente el error de validación. Esto es útil si la red neuronal comienza a sobreajustarse y aprender el ruido del conjunto de entrenamiento; aunque no fue realmente un problema con la red convolucional y el conjunto de datos MNIST utilizado en este tutorial.\n",
    "\n"
   ]
  }
 ],
 "metadata": {
  "kernelspec": {
   "display_name": "Python 3",
   "language": "python",
   "name": "python3"
  },
  "language_info": {
   "codemirror_mode": {
    "name": "ipython",
    "version": 3
   },
   "file_extension": ".py",
   "mimetype": "text/x-python",
   "name": "python",
   "nbconvert_exporter": "python",
   "pygments_lexer": "ipython3",
   "version": "3.5.2"
  }
 },
 "nbformat": 4,
 "nbformat_minor": 2
}
